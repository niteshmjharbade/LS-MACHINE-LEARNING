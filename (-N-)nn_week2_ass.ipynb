{
  "nbformat": 4,
  "nbformat_minor": 0,
  "metadata": {
    "colab": {
      "provenance": []
    },
    "kernelspec": {
      "name": "python3",
      "display_name": "Python 3"
    },
    "language_info": {
      "name": "python"
    }
  },
  "cells": [
    {
      "cell_type": "code",
      "execution_count": 118,
      "metadata": {
        "id": "4XQVigbYn4hb"
      },
      "outputs": [],
      "source": [
        "#importing the libraries\n",
        "import numpy as np\n",
        "import matplotlib.pyplot as plt\n",
        "from keras.preprocessing.image import ImageDataGenerator\n",
        "from keras.models import Sequential\n",
        "from keras.layers import Dense, Flatten\n",
        "from keras.optimizers import Adam\n",
        "from sklearn.model_selection import train_test_split\n",
        "from keras.preprocessing.image import load_img, img_to_array\n",
        "import os\n",
        "from keras import regularizers\n",
        "\n",
        "\n"
      ]
    },
    {
      "cell_type": "code",
      "source": [
        "#mounting the DRIVE\n",
        "from google.colab import drive\n",
        "drive.mount('/content/drive')"
      ],
      "metadata": {
        "colab": {
          "base_uri": "https://localhost:8080/"
        },
        "id": "ph2mP7QTpPF7",
        "outputId": "107f7ac3-b255-4a21-bbc1-3d1f6c5208ef"
      },
      "execution_count": 119,
      "outputs": [
        {
          "output_type": "stream",
          "name": "stdout",
          "text": [
            "Drive already mounted at /content/drive; to attempt to forcibly remount, call drive.mount(\"/content/drive\", force_remount=True).\n"
          ]
        }
      ]
    },
    {
      "cell_type": "code",
      "source": [
        "#Loading the dataset\n",
        "def load_images_from_folder(folder):\n",
        "    images = []\n",
        "    labels = []\n",
        "    for label in os.listdir(folder):\n",
        "        for filename in os.listdir(os.path.join(folder, label)):\n",
        "            img = load_img(os.path.join(folder, label, filename), target_size=(64, 64))\n",
        "            img_array = img_to_array(img) / 255.0  # Normalize pixel values\n",
        "            images.append(img_array)\n",
        "            labels.append(label)  # Assuming folder names are the class labels\n",
        "    return np.array(images), np.array(labels)\n",
        "\n",
        "X, y = load_images_from_folder('/content/drive/MyDrive/homer_bart')\n"
      ],
      "metadata": {
        "id": "-IwJMYKRoQBy"
      },
      "execution_count": 120,
      "outputs": []
    },
    {
      "cell_type": "code",
      "source": [
        "#encoding\n",
        "from sklearn.preprocessing import LabelEncoder\n",
        "\n",
        "le = LabelEncoder()\n",
        "y_encoded = le.fit_transform(y)\n"
      ],
      "metadata": {
        "id": "8Mpuahg0owwW"
      },
      "execution_count": 121,
      "outputs": []
    },
    {
      "cell_type": "code",
      "source": [
        "#splitting the dataset\n",
        "X_train, X_test, y_train, y_test = train_test_split(X, y_encoded, test_size=0.1, random_state=42)\n"
      ],
      "metadata": {
        "id": "ihhkCWXapoQf"
      },
      "execution_count": 122,
      "outputs": []
    },
    {
      "cell_type": "code",
      "source": [
        "#creating the ML model(regularization not used)\n",
        "model = Sequential()\n",
        "model.add(Flatten(input_shape=(64, 64, 3)))\n",
        "model.add(Dense(256, activation='relu', kernel_regularizer=regularizers.l1_l2(l1=0.00, l2=0.00)))\n",
        "model.add(Dense(128, activation='relu', kernel_regularizer=regularizers.l1_l2(l1=0.00, l2=0.00)))\n",
        "model.add(Dense(64, activation='relu', kernel_regularizer=regularizers.l1_l2(l1=0.00, l2=0.00)))\n",
        "\n",
        "model.add(Dense(1, activation='sigmoid'))  # Binary classification\n"
      ],
      "metadata": {
        "id": "nIV8Xs_hoetu"
      },
      "execution_count": 123,
      "outputs": []
    },
    {
      "cell_type": "code",
      "source": [
        "#compiling the model\n",
        "model.compile(optimizer=Adam(learning_rate=0.001), loss='binary_crossentropy', metrics=['accuracy'])\n"
      ],
      "metadata": {
        "id": "P2cSfvFEoiQB"
      },
      "execution_count": 124,
      "outputs": []
    },
    {
      "cell_type": "code",
      "source": [
        "\n",
        "#training the model\n",
        "model.fit(X_train, y_train, epochs=15, batch_size=32, validation_split=0.1) #Limit the number of epochs if the repeating pattern obeserved in the accuracy\n"
      ],
      "metadata": {
        "colab": {
          "base_uri": "https://localhost:8080/"
        },
        "id": "5qNOd6avpytu",
        "outputId": "ed5040d2-3b02-478c-a5e3-22f520d6598f"
      },
      "execution_count": 125,
      "outputs": [
        {
          "output_type": "stream",
          "name": "stdout",
          "text": [
            "Epoch 1/15\n",
            "7/7 [==============================] - 2s 91ms/step - loss: 2.2782 - accuracy: 0.5438 - val_loss: 0.6822 - val_accuracy: 0.6000\n",
            "Epoch 2/15\n",
            "7/7 [==============================] - 0s 49ms/step - loss: 0.9768 - accuracy: 0.5576 - val_loss: 0.7565 - val_accuracy: 0.6000\n",
            "Epoch 3/15\n",
            "7/7 [==============================] - 0s 51ms/step - loss: 0.7082 - accuracy: 0.5622 - val_loss: 1.1109 - val_accuracy: 0.4000\n",
            "Epoch 4/15\n",
            "7/7 [==============================] - 0s 47ms/step - loss: 0.8271 - accuracy: 0.5668 - val_loss: 1.2409 - val_accuracy: 0.4000\n",
            "Epoch 5/15\n",
            "7/7 [==============================] - 0s 50ms/step - loss: 0.7321 - accuracy: 0.6359 - val_loss: 0.5986 - val_accuracy: 0.6800\n",
            "Epoch 6/15\n",
            "7/7 [==============================] - 0s 60ms/step - loss: 0.5290 - accuracy: 0.7465 - val_loss: 0.8154 - val_accuracy: 0.6800\n",
            "Epoch 7/15\n",
            "7/7 [==============================] - 0s 50ms/step - loss: 0.4601 - accuracy: 0.7604 - val_loss: 1.1390 - val_accuracy: 0.6400\n",
            "Epoch 8/15\n",
            "7/7 [==============================] - 0s 47ms/step - loss: 0.6400 - accuracy: 0.7005 - val_loss: 1.0580 - val_accuracy: 0.6400\n",
            "Epoch 9/15\n",
            "7/7 [==============================] - 0s 65ms/step - loss: 0.4374 - accuracy: 0.8203 - val_loss: 0.9445 - val_accuracy: 0.6800\n",
            "Epoch 10/15\n",
            "7/7 [==============================] - 1s 75ms/step - loss: 0.4016 - accuracy: 0.8157 - val_loss: 0.5508 - val_accuracy: 0.6800\n",
            "Epoch 11/15\n",
            "7/7 [==============================] - 0s 72ms/step - loss: 0.3462 - accuracy: 0.8341 - val_loss: 0.5525 - val_accuracy: 0.6800\n",
            "Epoch 12/15\n",
            "7/7 [==============================] - 0s 70ms/step - loss: 0.3316 - accuracy: 0.8479 - val_loss: 0.5502 - val_accuracy: 0.6800\n",
            "Epoch 13/15\n",
            "7/7 [==============================] - 1s 86ms/step - loss: 0.3250 - accuracy: 0.8664 - val_loss: 0.5353 - val_accuracy: 0.7200\n",
            "Epoch 14/15\n",
            "7/7 [==============================] - 0s 73ms/step - loss: 0.2872 - accuracy: 0.8848 - val_loss: 0.7847 - val_accuracy: 0.6800\n",
            "Epoch 15/15\n",
            "7/7 [==============================] - 1s 76ms/step - loss: 0.2910 - accuracy: 0.8618 - val_loss: 0.5384 - val_accuracy: 0.7600\n"
          ]
        },
        {
          "output_type": "execute_result",
          "data": {
            "text/plain": [
              "<keras.src.callbacks.History at 0x7fadc57323e0>"
            ]
          },
          "metadata": {},
          "execution_count": 125
        }
      ]
    },
    {
      "cell_type": "code",
      "source": [
        "#getting accuracy\n",
        "test_loss, test_accuracy = model.evaluate(X_test, y_test)\n",
        "print(f'Test Accuracy: {test_accuracy}')\n"
      ],
      "metadata": {
        "colab": {
          "base_uri": "https://localhost:8080/"
        },
        "id": "aG60GNHzokXc",
        "outputId": "0987465c-4309-4d41-ee30-c788d30e4a64"
      },
      "execution_count": 126,
      "outputs": [
        {
          "output_type": "stream",
          "name": "stdout",
          "text": [
            "1/1 [==============================] - 0s 49ms/step - loss: 0.3837 - accuracy: 0.8519\n",
            "Test Accuracy: 0.8518518805503845\n"
          ]
        }
      ]
    }
  ]
}
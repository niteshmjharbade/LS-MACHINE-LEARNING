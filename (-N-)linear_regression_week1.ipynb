{
  "cells": [
    {
      "cell_type": "code",
      "execution_count": 1,
      "metadata": {
        "id": "-zTLHrFCT6KY"
      },
      "outputs": [],
      "source": [
        "import numpy as np\n",
        "import pandas as pd\n",
        "import matplotlib.pyplot as plt\n"
      ]
    },
    {
      "cell_type": "code",
      "execution_count": 2,
      "metadata": {},
      "outputs": [],
      "source": [
        "import numpy as np\n",
        "import pandas as pd\n",
        "from sklearn.preprocessing import LabelEncoder\n",
        "\n",
        "def feature_changing(x_train):\n",
        "\n",
        "    feature_names = ['internet', 'sex', 'traveltime', 'studytime', 'freetime', 'absences', 'age', 'iq']\n",
        "    \n",
        "    X_train_df = pd.DataFrame(x_train, columns=feature_names)\n",
        "    \n",
        "    # Identify categorical features from the datsaet\n",
        "    categorical_features = ['internet', 'sex']\n",
        "    \n",
        "    label_encoders = {}\n",
        "    \n",
        "    # Perform label encoding\n",
        "    for feature in categorical_features:\n",
        "        le = LabelEncoder()\n",
        "        X_train_df[feature] = le.fit_transform(X_train_df[feature])\n",
        "        label_encoders[feature] = le\n",
        "    \n",
        "    x_train_encoded = X_train_df.values\n",
        "    \n",
        "    return x_train_encoded\n"
      ]
    },
    {
      "cell_type": "code",
      "execution_count": 3,
      "metadata": {},
      "outputs": [],
      "source": [
        "\n",
        "data = pd.read_excel('Training data.xlsx')\n",
        "x_train = np.array(data.iloc[:,0:8])\n",
        "y_train = np.array(data.iloc[:,8]).reshape(-1,1)\n",
        "\n",
        "x_train = feature_changing(x_train)"
      ]
    },
    {
      "cell_type": "code",
      "execution_count": 36,
      "metadata": {},
      "outputs": [],
      "source": []
    },
    {
      "cell_type": "code",
      "execution_count": 4,
      "metadata": {},
      "outputs": [
        {
          "name": "stdout",
          "output_type": "stream",
          "text": [
            "[[0 1 2 2 5 6 18 118]\n",
            " [1 1 2 2 2 7 19 107]\n",
            " [1 1 3 3 3 5 18 108]\n",
            " [0 0 3 3 4 9 17 100]\n",
            " [1 1 1 4 3 4 19 96]]\n"
          ]
        }
      ],
      "source": [
        "print(x_train[:5])"
      ]
    },
    {
      "cell_type": "code",
      "execution_count": null,
      "metadata": {},
      "outputs": [],
      "source": []
    },
    {
      "cell_type": "code",
      "execution_count": 6,
      "metadata": {
        "id": "tYshvtYlVour"
      },
      "outputs": [],
      "source": [
        "def z_score(x_train):\n",
        "  \n",
        "  x_mean = np.mean(x_train, axis=0)\n",
        "  \n",
        "  x_std = np.std(x_train, axis=0)\n",
        "  \n",
        "  x_train_scaled = (x_train - x_mean) / x_std\n",
        "\n",
        "\n",
        "  return x_train_scaled,x_std,x_mean"
      ]
    },
    {
      "cell_type": "code",
      "execution_count": 7,
      "metadata": {
        "id": "O5dOwbNbWJWa"
      },
      "outputs": [],
      "source": [
        "def cost(x_train,y_train,w,b):\n",
        "  \n",
        "  m = x_train.shape[0]\n",
        "  \n",
        "  predictions = x_train.dot(w) + b\n",
        "  \n",
        "  loss = np.sum((predictions - y_train) ** 2) / (2 * m)\n",
        "\n",
        "\n",
        "  return loss"
      ]
    },
    {
      "cell_type": "code",
      "execution_count": 8,
      "metadata": {
        "id": "hW8p2cTNU74W"
      },
      "outputs": [],
      "source": [
        "import numpy as np\n",
        "\n",
        "def gradient_descent(x_train, y_train, w, b, learning_rate=0.01, num_iterations=10):\n",
        "    m = x_train.shape[0]  \n",
        "    \n",
        "    for i in range(num_iterations):\n",
        "        \n",
        "        predictions = x_train.dot(w) + b\n",
        "        \n",
        "        \n",
        "        dw = (1/m) * x_train.T.dot(predictions - y_train)\n",
        "        db = (1/m) * np.sum(predictions - y_train)\n",
        "        \n",
        "        \n",
        "        w = w - learning_rate * dw\n",
        "        b = b - learning_rate * db\n",
        "        \n",
        "    return w, b\n"
      ]
    },
    {
      "cell_type": "code",
      "execution_count": 34,
      "metadata": {},
      "outputs": [],
      "source": []
    },
    {
      "cell_type": "code",
      "execution_count": null,
      "metadata": {},
      "outputs": [],
      "source": []
    },
    {
      "cell_type": "code",
      "execution_count": 9,
      "metadata": {},
      "outputs": [
        {
          "name": "stdout",
          "output_type": "stream",
          "text": [
            "Congratulations, your accuracy is 100.0%\n"
          ]
        }
      ],
      "source": [
        "x_train = x_train.astype(np.float64)\n",
        "x_train,x_std,x_mean = z_score(x_train)\n",
        "\n",
        "np.random.seed(2147483647)\n",
        "w = np.random.randn(x_train.shape[1],1)\n",
        "b = np.random.randn(1)\n",
        "\n",
        "old_cost = 0\n",
        "\n",
        "while abs(old_cost - cost(x_train,y_train,w,b))>0.00001:\n",
        "  old_cost = cost(x_train,y_train,w,b)\n",
        "  w,b = gradient_descent(x_train,y_train,w,b)\n",
        "\n",
        "x_predict = pd.read_excel('Test data.xlsx').iloc[:,:8].to_numpy()\n",
        "x_predict = feature_changing(x_predict)\n",
        "x_predict = (x_predict - x_mean)/x_std\n",
        "ans = pd.read_excel('Test data.xlsx').iloc[:,8].to_numpy()\n",
        "\n",
        "y_predict = np.dot(x_predict,w) + b\n",
        "\n",
        "accuracy = 0\n",
        "for dim in range(len(ans)):\n",
        "  if abs(y_predict[dim]-ans[dim])<0.5:\n",
        "    accuracy += 1\n",
        "accuracy = round(accuracy*100/200.0,2)\n",
        "ok = 'Congratulations' if accuracy>95 else 'Optimization required'\n",
        "print(f\"{ok}, your accuracy is {accuracy}%\")"
      ]
    }
  ],
  "metadata": {
    "colab": {
      "provenance": []
    },
    "kernelspec": {
      "display_name": "Python 3",
      "name": "python3"
    },
    "language_info": {
      "codemirror_mode": {
        "name": "ipython",
        "version": 3
      },
      "file_extension": ".py",
      "mimetype": "text/x-python",
      "name": "python",
      "nbconvert_exporter": "python",
      "pygments_lexer": "ipython3",
      "version": "3.12.1"
    }
  },
  "nbformat": 4,
  "nbformat_minor": 0
}
